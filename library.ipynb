{
 "cells": [
  {
   "cell_type": "code",
   "execution_count": null,
   "id": "012ca336-6154-46e3-84a4-52202cb9ff8d",
   "metadata": {},
   "outputs": [],
   "source": []
  },
  {
   "cell_type": "code",
   "execution_count": 4,
   "id": "8cf164a7-9d6c-400c-adf9-f4edb2836ebf",
   "metadata": {},
   "outputs": [
    {
     "name": "stderr",
     "output_type": "stream",
     "text": [
      "UsageError: Line magic function `%%writefile` not found.\n"
     ]
    }
   ],
   "source": [
    "import csv\n",
    "from book import Book\n",
    "%%writefile library.py\n",
    "class Library:\n",
    "    def __init(self,filename='library.csv'):\n",
    "        self.filename=filename\n",
    "        self.books=[]\n",
    "        self.load_books()\n",
    "    def add_book(self,book):\n",
    "        self.books.append(book)\n",
    "        self.save_books()\n",
    "        print('Book added successfully!')\n",
    "    def remove_book(self,title):\n",
    "        for book in self.books:\n",
    "            if book.title.lower()==title.lower():\n",
    "                self.books.remove(book)\n",
    "                self.save_books()\n",
    "                print('Book removed successfully!')\n",
    "                return\n",
    "        print('book not found!')\n",
    "    def search_book(self,keyword):\n",
    "        results=[book for book in self.books if keyword.lower() in book.title.lower() or keyword.lower() in book.author.lower()]\n",
    "        if results:\n",
    "            for book in results:\n",
    "                print(book.display_info())\n",
    "        else:\n",
    "            print('No matching books found!')\n",
    "    def display_books(self):\n",
    "        if not self.books:\n",
    "            print('No books found in the library')\n",
    "        else:\n",
    "            for book in self.books:\n",
    "                print(book.display_info())\n",
    "    def save_books(self):\n",
    "        with open(self.filename, 'w', newline='') as file:\n",
    "            writer=csv.writer(file)\n",
    "            writer.writerow(['title','author','genre','year'])\n",
    "            for book in self.books:\n",
    "                writer.writerow([book.title,book.author,book.genre,book.year])\n",
    "    def load_books(self):\n",
    "        try:\n",
    "            with open(self.filename ,'r') as file:\n",
    "                reader=csv.reader(file)\n",
    "                next(reader)\n",
    "                self.books=[]\n",
    "                for row in reader:\n",
    "                    book =Book(row[0],row[1],row[2],row[3])\n",
    "                    self.books.append(book)\n",
    "        except FileNotFoundError:\n",
    "            self.books=[]\n",
    "        except Exception as e:\n",
    "            print(f'Error Loading books: {e}')\n",
    "            "
   ]
  },
  {
   "cell_type": "code",
   "execution_count": null,
   "id": "d2a30be5-532c-4bfd-9bd8-91debfb52ee9",
   "metadata": {},
   "outputs": [],
   "source": []
  },
  {
   "cell_type": "code",
   "execution_count": null,
   "id": "908b6e0e-403f-4299-b2ec-2af4602171d3",
   "metadata": {},
   "outputs": [],
   "source": []
  },
  {
   "cell_type": "code",
   "execution_count": null,
   "id": "c3a17267-3a5e-4f17-8b8c-c911e2ece638",
   "metadata": {},
   "outputs": [],
   "source": []
  },
  {
   "cell_type": "code",
   "execution_count": null,
   "id": "45cd3a00-5a37-41cf-9518-3199bc5039bd",
   "metadata": {},
   "outputs": [],
   "source": []
  },
  {
   "cell_type": "code",
   "execution_count": null,
   "id": "6e6804e7-2d14-4065-a1dc-e3ffd51cbe7b",
   "metadata": {},
   "outputs": [],
   "source": []
  },
  {
   "cell_type": "code",
   "execution_count": null,
   "id": "2e41cfe3-f744-4557-8f66-0a2864b48161",
   "metadata": {},
   "outputs": [],
   "source": []
  },
  {
   "cell_type": "code",
   "execution_count": null,
   "id": "ba03b72d-70a1-4fb9-bf30-c060c2c08acb",
   "metadata": {},
   "outputs": [],
   "source": []
  },
  {
   "cell_type": "code",
   "execution_count": null,
   "id": "75aa9556-08de-420c-8b42-210599d4433d",
   "metadata": {},
   "outputs": [],
   "source": []
  },
  {
   "cell_type": "code",
   "execution_count": null,
   "id": "b955d4f5-fcc1-4461-b95d-01ed19248d85",
   "metadata": {},
   "outputs": [],
   "source": []
  },
  {
   "cell_type": "code",
   "execution_count": null,
   "id": "4e5d07a0-6297-40f4-9a46-d9a66fe21a56",
   "metadata": {},
   "outputs": [],
   "source": []
  },
  {
   "cell_type": "code",
   "execution_count": null,
   "id": "80516742-d662-4191-bd06-da58b1a93ef5",
   "metadata": {},
   "outputs": [],
   "source": []
  },
  {
   "cell_type": "code",
   "execution_count": null,
   "id": "8acfba27-8647-467a-aa80-cb105b34fbc2",
   "metadata": {},
   "outputs": [],
   "source": []
  },
  {
   "cell_type": "code",
   "execution_count": null,
   "id": "192fd578-97f2-4f6b-bf19-cd552d6c5d93",
   "metadata": {},
   "outputs": [],
   "source": []
  },
  {
   "cell_type": "code",
   "execution_count": null,
   "id": "aa05eb91-8c19-4831-b8e3-cdea76a4ae20",
   "metadata": {},
   "outputs": [],
   "source": []
  },
  {
   "cell_type": "code",
   "execution_count": null,
   "id": "9886e27d-6fe9-45bc-aedc-190c55da7a99",
   "metadata": {},
   "outputs": [],
   "source": []
  },
  {
   "cell_type": "code",
   "execution_count": null,
   "id": "928622c9-4cfd-4e16-b066-b17623ec1e82",
   "metadata": {},
   "outputs": [],
   "source": []
  },
  {
   "cell_type": "code",
   "execution_count": null,
   "id": "45d0f7d1-fcfd-4771-9f74-075d44f18334",
   "metadata": {},
   "outputs": [],
   "source": []
  },
  {
   "cell_type": "code",
   "execution_count": null,
   "id": "a9940003-41a1-4b2c-8f9a-828805beeda1",
   "metadata": {},
   "outputs": [],
   "source": []
  },
  {
   "cell_type": "code",
   "execution_count": null,
   "id": "c268e574-b96e-4535-b15b-3b6482233b0a",
   "metadata": {},
   "outputs": [],
   "source": []
  }
 ],
 "metadata": {
  "kernelspec": {
   "display_name": "Python 3 (ipykernel)",
   "language": "python",
   "name": "python3"
  },
  "language_info": {
   "codemirror_mode": {
    "name": "ipython",
    "version": 3
   },
   "file_extension": ".py",
   "mimetype": "text/x-python",
   "name": "python",
   "nbconvert_exporter": "python",
   "pygments_lexer": "ipython3",
   "version": "3.12.7"
  }
 },
 "nbformat": 4,
 "nbformat_minor": 5
}

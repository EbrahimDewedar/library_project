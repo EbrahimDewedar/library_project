{
 "cells": [
  {
   "cell_type": "code",
   "execution_count": 2,
   "id": "e1663586-1127-446b-bd52-fba070009116",
   "metadata": {},
   "outputs": [
    {
     "name": "stdout",
     "output_type": "stream",
     "text": [
      "Overwriting book.py\n"
     ]
    }
   ],
   "source": [
    "%%writefile book.py\n",
    "class Book:\n",
    "    def __init__(self, title, author, genre, year):\n",
    "        self.title = title\n",
    "        self.author = author\n",
    "        self.genre = genre\n",
    "        self.year = year\n",
    "\n",
    "    def display_info(self):\n",
    "        return f\"{self.title} by {self.author} ({self.year}) - {self.genre}\"\n",
    "\n",
    "    def to_csv_format(self):\n",
    "        return f\"{self.title},{self.author},{self.genre},{self.year}\"\n"
   ]
  },
  {
   "cell_type": "code",
   "execution_count": null,
   "id": "32652e67-d285-4e6d-aa15-0b0b06760731",
   "metadata": {},
   "outputs": [],
   "source": []
  },
  {
   "cell_type": "code",
   "execution_count": null,
   "id": "fd724d4b-301c-431d-acee-537bed5e209c",
   "metadata": {},
   "outputs": [],
   "source": []
  },
  {
   "cell_type": "code",
   "execution_count": null,
   "id": "429f7f15-2934-4640-98b3-bcb4b686d0d8",
   "metadata": {},
   "outputs": [],
   "source": []
  },
  {
   "cell_type": "code",
   "execution_count": null,
   "id": "c07d7831-8b65-4ebf-a2b6-ad617c9bd4c9",
   "metadata": {},
   "outputs": [],
   "source": []
  },
  {
   "cell_type": "code",
   "execution_count": null,
   "id": "022a12ab-738a-486a-9afc-23ad09776b40",
   "metadata": {},
   "outputs": [],
   "source": []
  },
  {
   "cell_type": "code",
   "execution_count": null,
   "id": "6e788386-66fa-42bf-81af-170057f5bd9a",
   "metadata": {},
   "outputs": [],
   "source": []
  },
  {
   "cell_type": "code",
   "execution_count": null,
   "id": "3ee95832-f854-4ae3-bf42-1ba289d41d0c",
   "metadata": {},
   "outputs": [],
   "source": []
  },
  {
   "cell_type": "code",
   "execution_count": null,
   "id": "1f785d54-0400-478e-81eb-52b3921dfe80",
   "metadata": {},
   "outputs": [],
   "source": []
  },
  {
   "cell_type": "code",
   "execution_count": null,
   "id": "270e4c5a-ef49-49d8-9b57-5c1b404d0f48",
   "metadata": {},
   "outputs": [],
   "source": []
  },
  {
   "cell_type": "code",
   "execution_count": null,
   "id": "19b4dcab-ed05-4bcf-b698-f0a0f5df20ab",
   "metadata": {},
   "outputs": [],
   "source": []
  },
  {
   "cell_type": "code",
   "execution_count": null,
   "id": "a63fbf5a-44e4-4fbe-89da-fe26cbb22717",
   "metadata": {},
   "outputs": [],
   "source": []
  },
  {
   "cell_type": "code",
   "execution_count": null,
   "id": "2c7a537a-3bdd-4d7c-a7c0-0db89fac6910",
   "metadata": {},
   "outputs": [],
   "source": []
  },
  {
   "cell_type": "code",
   "execution_count": null,
   "id": "8b325550-01f7-4097-b826-75297bf5e735",
   "metadata": {},
   "outputs": [],
   "source": []
  },
  {
   "cell_type": "code",
   "execution_count": null,
   "id": "46690c62-a68c-4217-a699-5e33a244d173",
   "metadata": {},
   "outputs": [],
   "source": []
  }
 ],
 "metadata": {
  "kernelspec": {
   "display_name": "Python 3 (ipykernel)",
   "language": "python",
   "name": "python3"
  },
  "language_info": {
   "codemirror_mode": {
    "name": "ipython",
    "version": 3
   },
   "file_extension": ".py",
   "mimetype": "text/x-python",
   "name": "python",
   "nbconvert_exporter": "python",
   "pygments_lexer": "ipython3",
   "version": "3.12.7"
  }
 },
 "nbformat": 4,
 "nbformat_minor": 5
}

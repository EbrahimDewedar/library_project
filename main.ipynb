{
 "cells": [
  {
   "cell_type": "code",
   "execution_count": 5,
   "id": "28ed0795-852d-4551-aa67-123b98c34216",
   "metadata": {},
   "outputs": [
    {
     "ename": "AttributeError",
     "evalue": "'Library' object has no attribute 'filename'",
     "output_type": "error",
     "traceback": [
      "\u001b[1;31m---------------------------------------------------------------------------\u001b[0m",
      "\u001b[1;31mAttributeError\u001b[0m                            Traceback (most recent call last)",
      "Cell \u001b[1;32mIn[5], line 4\u001b[0m\n\u001b[0;32m      2\u001b[0m \u001b[38;5;28;01mfrom\u001b[39;00m \u001b[38;5;21;01mbook\u001b[39;00m \u001b[38;5;28;01mimport\u001b[39;00m Book\n\u001b[0;32m      3\u001b[0m library\u001b[38;5;241m=\u001b[39mLibrary()\n\u001b[1;32m----> 4\u001b[0m \u001b[38;5;28mprint\u001b[39m(\u001b[43mlibrary\u001b[49m\u001b[38;5;241;43m.\u001b[39;49m\u001b[43mfilename\u001b[49m)\n\u001b[0;32m      5\u001b[0m \u001b[38;5;28;01mwhile\u001b[39;00m \u001b[38;5;28;01mTrue\u001b[39;00m:\n\u001b[0;32m      6\u001b[0m     \u001b[38;5;28mprint\u001b[39m(\u001b[38;5;124m'\u001b[39m\u001b[38;5;130;01m\\n\u001b[39;00m\u001b[38;5;124m personal library anagement system\u001b[39m\u001b[38;5;124m'\u001b[39m)\n",
      "\u001b[1;31mAttributeError\u001b[0m: 'Library' object has no attribute 'filename'"
     ]
    }
   ],
   "source": [
    "from library import Library\n",
    "from book import Book\n",
    "library=Library()\n",
    "print(library.filename)\n",
    "while True:\n",
    "    print('\\n personal library anagement system')\n",
    "    print('1️⃣ Add a book')\n",
    "    print('2️⃣ Remove a book')\n",
    "    print('3️⃣ Search for a book')\n",
    "    print('4️⃣ Display all books')\n",
    "    print('5️⃣ Exit')\n",
    "    choice= input('🔹 Enter your choice: ')\n",
    "    if choice=='1':\n",
    "        title=input('📖 Enter book title:✍️ ')\n",
    "        author=input('✍️ Enter book author:')\n",
    "        genre=input('📂 Enter book genre:')\n",
    "        year=input('📅 Enter publication year:')\n",
    "        library.add_book(Book(title,author,genre,year))\n",
    "    elif choice== '2':\n",
    "        title=input('Enter the title of book to remove:')\n",
    "        library.remove_book(title)\n",
    "    elif choice== '3':\n",
    "        keyword=input('Enter the title or Author of the book:')\n",
    "        library.search_book(keyword)\n",
    "    elif choice=='4':\n",
    "        library.display_books()\n",
    "    elif choice== '5':\n",
    "        print('Goodbye! Happy reading!')\n",
    "    else:\n",
    "        print('Invalid choice.please try again.')\n",
    "        "
   ]
  },
  {
   "cell_type": "code",
   "execution_count": null,
   "id": "dccde8b9-d950-4c55-b1ed-b14acd9c1bad",
   "metadata": {},
   "outputs": [],
   "source": []
  },
  {
   "cell_type": "code",
   "execution_count": null,
   "id": "280e2c4a-714f-4e51-bdfa-12a9945d2807",
   "metadata": {},
   "outputs": [],
   "source": []
  },
  {
   "cell_type": "code",
   "execution_count": null,
   "id": "32bcdcf8-e893-4ed4-8a4c-2b01c40dff4f",
   "metadata": {},
   "outputs": [],
   "source": []
  },
  {
   "cell_type": "code",
   "execution_count": null,
   "id": "87602dde-c2b6-41fc-97c0-7f3e03901fe7",
   "metadata": {},
   "outputs": [],
   "source": []
  },
  {
   "cell_type": "code",
   "execution_count": null,
   "id": "84f5d34f-2d2d-4dc8-ac23-14ce1cd3b902",
   "metadata": {},
   "outputs": [],
   "source": []
  },
  {
   "cell_type": "code",
   "execution_count": null,
   "id": "7d56e9d0-1cba-4a85-bc9e-742f00d85d9c",
   "metadata": {},
   "outputs": [],
   "source": []
  },
  {
   "cell_type": "code",
   "execution_count": null,
   "id": "ddaf7776-1aa7-4561-bef7-efb8392ca3c7",
   "metadata": {},
   "outputs": [],
   "source": []
  },
  {
   "cell_type": "code",
   "execution_count": null,
   "id": "bfc58b11-7965-413b-9068-1c42d33af8f5",
   "metadata": {},
   "outputs": [],
   "source": []
  },
  {
   "cell_type": "code",
   "execution_count": null,
   "id": "ad7c0ffd-4254-4fb8-8c57-ee56bbd2756d",
   "metadata": {},
   "outputs": [],
   "source": []
  },
  {
   "cell_type": "code",
   "execution_count": null,
   "id": "4145e4fa-fef2-40bb-8517-fa040343f689",
   "metadata": {},
   "outputs": [],
   "source": []
  },
  {
   "cell_type": "code",
   "execution_count": null,
   "id": "e967d870-1273-4a96-b50e-9434b09c61e7",
   "metadata": {},
   "outputs": [],
   "source": []
  },
  {
   "cell_type": "code",
   "execution_count": null,
   "id": "ebc2a48d-60f0-4dd0-8b53-79568e18a82b",
   "metadata": {},
   "outputs": [],
   "source": []
  },
  {
   "cell_type": "code",
   "execution_count": null,
   "id": "bc34e4cc-d24c-4ff6-ac0b-8fd6b07ad119",
   "metadata": {},
   "outputs": [],
   "source": []
  },
  {
   "cell_type": "code",
   "execution_count": null,
   "id": "59a9eeba-7f52-4751-afc6-4d72fb599bc2",
   "metadata": {},
   "outputs": [],
   "source": []
  }
 ],
 "metadata": {
  "kernelspec": {
   "display_name": "Python 3 (ipykernel)",
   "language": "python",
   "name": "python3"
  },
  "language_info": {
   "codemirror_mode": {
    "name": "ipython",
    "version": 3
   },
   "file_extension": ".py",
   "mimetype": "text/x-python",
   "name": "python",
   "nbconvert_exporter": "python",
   "pygments_lexer": "ipython3",
   "version": "3.12.7"
  }
 },
 "nbformat": 4,
 "nbformat_minor": 5
}
